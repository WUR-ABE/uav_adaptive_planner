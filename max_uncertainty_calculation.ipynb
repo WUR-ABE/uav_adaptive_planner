{
 "cells": [
  {
   "cell_type": "markdown",
   "metadata": {},
   "source": [
    "# Maximum uncertainty calculation"
   ]
  },
  {
   "cell_type": "code",
   "execution_count": 6,
   "metadata": {},
   "outputs": [],
   "source": [
    "from pathlib import Path\n",
    "from yaml import safe_load\n",
    "\n",
    "import numpy as np\n",
    "\n",
    "from tabulate import tabulate\n",
    "from IPython.display import HTML, display\n",
    "\n",
    "from scipy.spatial.transform import Rotation as R\n",
    "\n",
    "from adaptive_planner.executor.orthomosaic import OrthomosaicSimConfig"
   ]
  },
  {
   "cell_type": "markdown",
   "metadata": {},
   "source": [
    "Some helper functions:"
   ]
  },
  {
   "cell_type": "code",
   "execution_count": 2,
   "metadata": {},
   "outputs": [],
   "source": [
    "def _display_table(table_html: str, title: int | None = None) -> None:\n",
    "    display(\n",
    "        HTML(\n",
    "            f\"\"\"\n",
    "        {\"<h3>\" + str(title) + \"</h3>\" if title else \"\"}\n",
    "        <div style=\"max-height: 300px; overflow-y: auto; border: 1px solid #ccc;\">\n",
    "            {table_html}\n",
    "        </div>\n",
    "        \"\"\"\n",
    "        )\n",
    "    )"
   ]
  },
  {
   "cell_type": "markdown",
   "metadata": {},
   "source": [
    "Create a function to access the maximum uncertainty:"
   ]
  },
  {
   "cell_type": "code",
   "execution_count": 3,
   "metadata": {},
   "outputs": [],
   "source": [
    "def create_config(config_file: Path) -> OrthomosaicSimConfig:\n",
    "    with config_file.open(\"r\") as config_file_handler:\n",
    "        data = safe_load(config_file_handler)\n",
    "        return OrthomosaicSimConfig(**data)\n",
    "\n",
    "\n",
    "def get_max_uncertainty(config_file: Path, altitude: float) -> float:\n",
    "    config = create_config(config_file)\n",
    "\n",
    "    rotation_matrix = R.from_euler(\n",
    "        \"xyz\", [config.roll_uncertainty_deg, config.pitch_uncertainty_deg, config.heading_uncertainty_deg], degrees=True\n",
    "    ).as_matrix()\n",
    "    position_uncertainty = rotation_matrix @ np.array([0, 0, altitude + config.altitude_uncertainty_m])\n",
    "    position_uncertainty += config.position_uncertainty_m\n",
    "    return position_uncertainty[:2].max()"
   ]
  },
  {
   "cell_type": "markdown",
   "metadata": {},
   "source": [
    "Define the levels:"
   ]
  },
  {
   "cell_type": "code",
   "execution_count": 4,
   "metadata": {},
   "outputs": [],
   "source": [
    "uncertainty_config_files = {\n",
    "    \"perfect\": Path(\"experiments/localization_uncertainty/perfect.yaml\"),\n",
    "    \"good\": Path(\"experiments/localization_uncertainty/good.yaml\"),\n",
    "    \"decent\": Path(\"experiments/localization_uncertainty/decent.yaml\"),\n",
    "    \"poor\": Path(\"experiments/localization_uncertainty/poor.yaml\"),\n",
    "    \"very poor\": Path(\"experiments/localization_uncertainty/very_poor.yaml\"),\n",
    "}\n",
    "\n",
    "assert all(f.is_file() for f in uncertainty_config_files.values())"
   ]
  },
  {
   "cell_type": "code",
   "execution_count": 10,
   "metadata": {},
   "outputs": [
    {
     "data": {
      "text/html": [
       "\n",
       "        <h3>Max position error for each uncertainty level</h3>\n",
       "        <div style=\"max-height: 300px; overflow-y: auto; border: 1px solid #ccc;\">\n",
       "            <table>\n",
       "<thead>\n",
       "<tr><th>Uncertainty level  </th><th style=\"text-align: right;\">  12m</th><th style=\"text-align: right;\">  24m</th><th style=\"text-align: right;\">  36m</th><th style=\"text-align: right;\">  48m</th></tr>\n",
       "</thead>\n",
       "<tbody>\n",
       "<tr><td>perfect            </td><td style=\"text-align: right;\">0.000</td><td style=\"text-align: right;\">0.000</td><td style=\"text-align: right;\">0.000</td><td style=\"text-align: right;\">0.000</td></tr>\n",
       "<tr><td>good               </td><td style=\"text-align: right;\">0.121</td><td style=\"text-align: right;\">0.226</td><td style=\"text-align: right;\">0.332</td><td style=\"text-align: right;\">0.438</td></tr>\n",
       "<tr><td>decent             </td><td style=\"text-align: right;\">0.244</td><td style=\"text-align: right;\">0.457</td><td style=\"text-align: right;\">0.670</td><td style=\"text-align: right;\">0.883</td></tr>\n",
       "<tr><td>poor               </td><td style=\"text-align: right;\">0.537</td><td style=\"text-align: right;\">0.969</td><td style=\"text-align: right;\">1.402</td><td style=\"text-align: right;\">1.835</td></tr>\n",
       "<tr><td>very poor          </td><td style=\"text-align: right;\">1.348</td><td style=\"text-align: right;\">2.477</td><td style=\"text-align: right;\">3.606</td><td style=\"text-align: right;\">4.735</td></tr>\n",
       "</tbody>\n",
       "</table>\n",
       "        </div>\n",
       "        "
      ],
      "text/plain": [
       "<IPython.core.display.HTML object>"
      ]
     },
     "metadata": {},
     "output_type": "display_data"
    }
   ],
   "source": [
    "altitudes = [12, 24, 36, 48]\n",
    "\n",
    "rows = []\n",
    "for k, v in uncertainty_config_files.items():\n",
    "    rows.append([k] + [get_max_uncertainty(v, alt) for alt in altitudes])\n",
    "\n",
    "_display_table(\n",
    "    tabulate(rows, headers=[\"Uncertainty level\"] + [f\"{alt}m\" for alt in altitudes], tablefmt=\"html\", floatfmt=\".3f\"),\n",
    "    title=\"Max position error for each uncertainty level\",\n",
    ")"
   ]
  },
  {
   "cell_type": "code",
   "execution_count": null,
   "metadata": {},
   "outputs": [],
   "source": []
  }
 ],
 "metadata": {
  "kernelspec": {
   "display_name": "Python 3",
   "language": "python",
   "name": "python3"
  },
  "language_info": {
   "codemirror_mode": {
    "name": "ipython",
    "version": 3
   },
   "file_extension": ".py",
   "mimetype": "text/x-python",
   "name": "python",
   "nbconvert_exporter": "python",
   "pygments_lexer": "ipython3",
   "version": "3.10.12"
  }
 },
 "nbformat": 4,
 "nbformat_minor": 2
}
