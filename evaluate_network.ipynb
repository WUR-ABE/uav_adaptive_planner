{
 "cells": [
  {
   "cell_type": "markdown",
   "metadata": {},
   "source": [
    "# Evaluate network"
   ]
  },
  {
   "cell_type": "code",
   "execution_count": 1,
   "metadata": {
    "metadata": {}
   },
   "outputs": [],
   "source": [
    "from __future__ import annotations\n",
    "\n",
    "from collections import defaultdict\n",
    "from json import load\n",
    "from pathlib import Path\n",
    "from typing import TYPE_CHECKING\n",
    "\n",
    "import matplotlib.pyplot as plt\n",
    "import numpy as np\n",
    "\n",
    "from IPython.display import HTML, display\n",
    "from scipy.stats import ttest_ind, wasserstein_distance\n",
    "from tabulate import tabulate\n",
    "\n",
    "from adaptive_planner.evaluation import EvaluationResult\n",
    "from adaptive_planner.io.kml import read_kml_file\n",
    "from adaptive_planner.utils import parallel_execute, parallel_execute2\n",
    "from adaptive_planner.visualisation import save_fig\n",
    "\n",
    "if TYPE_CHECKING:\n",
    "    from typing import Any\n",
    "\n",
    "%matplotlib inline\n",
    "\n",
    "plt.rcParams[\"text.usetex\"] = True"
   ]
  },
  {
   "cell_type": "markdown",
   "metadata": {},
   "source": [
    "Define helper functions:"
   ]
  },
  {
   "cell_type": "code",
   "execution_count": 2,
   "metadata": {},
   "outputs": [],
   "source": [
    "def _display_table(table_html: str) -> None:\n",
    "    display(\n",
    "        HTML(\n",
    "            f\"\"\"\n",
    "        <div style=\"max-height: 300px; overflow-y: auto; border: 1px solid #ccc;\">\n",
    "            {table_html}\n",
    "        </div>\n",
    "        \"\"\"\n",
    "        )\n",
    "    )\n",
    "\n",
    "\n",
    "def _set_boxplot_color(boxplot: dict[str, Any], color: str) -> None:\n",
    "    for patch in boxplot[\"boxes\"]:\n",
    "        patch.set_facecolor(color)\n",
    "\n",
    "\n",
    "def read_times_json(times_file: Path) -> dict[str, tuple[float, float]]:\n",
    "    inference_times = defaultdict(list)\n",
    "\n",
    "    with times_file.open(\"r\") as file_handler:\n",
    "        json_data = load(file_handler)\n",
    "\n",
    "        for img_times in json_data.values():\n",
    "            inference_times[\"preprocess\"].append(img_times[\"preprocess\"])\n",
    "            inference_times[\"inference\"].append(img_times[\"inference\"])\n",
    "            inference_times[\"postprocess\"].append(img_times[\"postprocess\"])\n",
    "            inference_times[\"inference_postprocess\"].append(img_times[\"inference\"] + img_times[\"postprocess\"])\n",
    "            inference_times[\"total\"].append(img_times[\"preprocess\"] + img_times[\"inference\"] + img_times[\"postprocess\"])\n",
    "\n",
    "    return inference_times"
   ]
  },
  {
   "cell_type": "markdown",
   "metadata": {},
   "source": [
    "Define the data files:"
   ]
  },
  {
   "cell_type": "code",
   "execution_count": 25,
   "metadata": {},
   "outputs": [],
   "source": [
    "dropout_probability = 0.25\n",
    "altitudes = [12, 24, 32]\n",
    "datasets = [\"clustered_1\", \"clustered_2\", \"clustered_3\", \"clustered_4\", \"uniform_1\", \"uniform_2\", \"uniform_3\", \"uniform_4\"]\n",
    "methods = [\"yolo_uncertainty\", \"mcd_late_yolo_mean\", \"mcd_late_occ\", \"mcd_late_cls2\", \"mcd_late_iou\", \"mcd_late_occ_cls2_iou\"]\n",
    "\n",
    "gt_files = {f\"{d}_{a}m\": Path(f\"detection_evaluation_results/{d}_{a}m_gt.kml\") for a in altitudes for d in datasets}\n",
    "detection_files = {\n",
    "    f\"{d}_{a}m_{m}\": Path(f\"detection_evaluation_results/{dropout_probability:.2f}_{m}/{d}_{a}m_{m}.kml\") for a in altitudes for d in datasets for m in methods\n",
    "}\n",
    "time_files = {\n",
    "    f\"{d}_{a}m_{m}\": Path(f\"detection_evaluation_results/{dropout_probability:.2f}_{m}/{d}_{a}m_{m}_times.json\") for a in altitudes for d in datasets for m in methods\n",
    "}\n",
    "\n",
    "assert all(f.is_file() for f in gt_files.values())\n",
    "assert all(f.is_file() for f in detection_files.values())\n",
    "assert all(f.is_file() for f in time_files.values())"
   ]
  },
  {
   "cell_type": "markdown",
   "metadata": {},
   "source": [
    "Load the data:"
   ]
  },
  {
   "cell_type": "code",
   "execution_count": 26,
   "metadata": {},
   "outputs": [],
   "source": [
    "gt = parallel_execute(gt_files, read_kml_file)\n",
    "detections = parallel_execute(detection_files, read_kml_file)\n",
    "processing_times = parallel_execute(time_files, read_times_json)"
   ]
  },
  {
   "cell_type": "markdown",
   "metadata": {},
   "source": [
    "Define the labels:"
   ]
  },
  {
   "cell_type": "code",
   "execution_count": 27,
   "metadata": {},
   "outputs": [],
   "source": [
    "LABEL_MAP = {\n",
    "    \"yolo_uncertainty\": \"yolo\",\n",
    "    \"mcd_late_yolo_mean\": \"MCD yolo\",\n",
    "    \"mcd_late_occ\": \"MCD occurrence\",\n",
    "    \"mcd_late_cls2\": \"MCD class\",\n",
    "    \"mcd_late_iou\": \"MCD localization\",\n",
    "    \"mcd_late_occ_cls2_iou\": \"MCD combined\",\n",
    "}"
   ]
  },
  {
   "cell_type": "markdown",
   "metadata": {},
   "source": [
    "## Detection accuracy\n",
    "Run evaluations:"
   ]
  },
  {
   "cell_type": "code",
   "execution_count": 7,
   "metadata": {},
   "outputs": [],
   "source": [
    "dt_gt_locations = {dt_k: (gt_v, dt_v) for dt_k, dt_v in detections.items() for gt_k, gt_v in gt.items() if gt_k in dt_k}\n",
    "evaluations = parallel_execute2(\n",
    "    dt_gt_locations, EvaluationResult.from_georeferenced_image_detections, use_uncertainty_measure_as_confidence=True\n",
    ")"
   ]
  },
  {
   "cell_type": "markdown",
   "metadata": {},
   "source": [
    "Show table:"
   ]
  },
  {
   "cell_type": "code",
   "execution_count": 8,
   "metadata": {},
   "outputs": [
    {
     "data": {
      "text/html": [
       "\n",
       "        <div style=\"max-height: 300px; overflow-y: auto; border: 1px solid #ccc;\">\n",
       "            <table>\n",
       "<thead>\n",
       "<tr><th style=\"text-align: right;\">  Altitude</th><th>F1-score   </th><th>Precision  </th><th>Recall     </th></tr>\n",
       "</thead>\n",
       "<tbody>\n",
       "<tr><td style=\"text-align: right;\">        12</td><td>0.83 ± 0.07</td><td>0.84 ± 0.07</td><td>0.83 ± 0.07</td></tr>\n",
       "<tr><td style=\"text-align: right;\">        24</td><td>0.70 ± 0.07</td><td>0.78 ± 0.08</td><td>0.63 ± 0.07</td></tr>\n",
       "<tr><td style=\"text-align: right;\">        32</td><td>0.44 ± 0.09</td><td>0.69 ± 0.07</td><td>0.33 ± 0.08</td></tr>\n",
       "</tbody>\n",
       "</table>\n",
       "        </div>\n",
       "        "
      ],
      "text/plain": [
       "<IPython.core.display.HTML object>"
      ]
     },
     "metadata": {},
     "output_type": "display_data"
    }
   ],
   "source": [
    "rows = []\n",
    "for alt in altitudes:\n",
    "    f1 = []\n",
    "    precision = []\n",
    "    recall = []\n",
    "    for ds in datasets:\n",
    "        f1.append(evaluations[f\"{ds}_{alt}m_yolo_uncertainty\"].f1)\n",
    "        precision.append(evaluations[f\"{ds}_{alt}m_yolo_uncertainty\"].precision)\n",
    "        recall.append(evaluations[f\"{ds}_{alt}m_yolo_uncertainty\"].recall)\n",
    "\n",
    "    rows.append(\n",
    "        [\n",
    "            alt,\n",
    "            f\"{np.mean(f1):.2f} ± {np.std(f1):.2f}\",\n",
    "            f\"{np.mean(precision):.2f} ± {np.std(precision):.2f}\",\n",
    "            f\"{np.mean(recall):.2f} ± {np.std(recall):.2f}\",\n",
    "        ]\n",
    "    )\n",
    "\n",
    "_display_table(tabulate(rows, headers=[\"Altitude\", \"F1-score\", \"Precision\", \"Recall\"], tablefmt=\"html\"))"
   ]
  },
  {
   "cell_type": "markdown",
   "metadata": {},
   "source": [
    "Class agnostic:"
   ]
  },
  {
   "cell_type": "code",
   "execution_count": 9,
   "metadata": {},
   "outputs": [
    {
     "data": {
      "text/html": [
       "\n",
       "        <div style=\"max-height: 300px; overflow-y: auto; border: 1px solid #ccc;\">\n",
       "            <table>\n",
       "<thead>\n",
       "<tr><th style=\"text-align: right;\">  Altitude</th><th>F1-score   </th><th>Precision  </th><th>Recall     </th></tr>\n",
       "</thead>\n",
       "<tbody>\n",
       "<tr><td style=\"text-align: right;\">        12</td><td>0.95 ± 0.02</td><td>0.96 ± 0.01</td><td>0.95 ± 0.03</td></tr>\n",
       "<tr><td style=\"text-align: right;\">        24</td><td>0.88 ± 0.03</td><td>0.98 ± 0.01</td><td>0.80 ± 0.05</td></tr>\n",
       "<tr><td style=\"text-align: right;\">        32</td><td>0.63 ± 0.10</td><td>0.97 ± 0.02</td><td>0.48 ± 0.11</td></tr>\n",
       "</tbody>\n",
       "</table>\n",
       "        </div>\n",
       "        "
      ],
      "text/plain": [
       "<IPython.core.display.HTML object>"
      ]
     },
     "metadata": {},
     "output_type": "display_data"
    }
   ],
   "source": [
    "rows = []\n",
    "for alt in altitudes:\n",
    "    f1 = []\n",
    "    precision = []\n",
    "    recall = []\n",
    "    for ds in datasets:\n",
    "        f1.append(evaluations[f\"{ds}_{alt}m_yolo_uncertainty\"].make_class_agnostic().f1)\n",
    "        precision.append(evaluations[f\"{ds}_{alt}m_yolo_uncertainty\"].make_class_agnostic().precision)\n",
    "        recall.append(evaluations[f\"{ds}_{alt}m_yolo_uncertainty\"].make_class_agnostic().recall)\n",
    "\n",
    "    rows.append(\n",
    "        [\n",
    "            alt,\n",
    "            f\"{np.mean(f1):.2f} ± {np.std(f1):.2f}\",\n",
    "            f\"{np.mean(precision):.2f} ± {np.std(precision):.2f}\",\n",
    "            f\"{np.mean(recall):.2f} ± {np.std(recall):.2f}\",\n",
    "        ]\n",
    "    )\n",
    "\n",
    "_display_table(tabulate(rows, headers=[\"Altitude\", \"F1-score\", \"Precision\", \"Recall\"], tablefmt=\"html\"))"
   ]
  },
  {
   "cell_type": "markdown",
   "metadata": {},
   "source": [
    "## Detection confidences\n",
    "Evaluate the data with low confidence threshold:"
   ]
  },
  {
   "cell_type": "code",
   "execution_count": 28,
   "metadata": {},
   "outputs": [],
   "source": [
    "dt_gt_locations = {dt_k: (gt_v, dt_v) for dt_k, dt_v in detections.items() for gt_k, gt_v in gt.items() if gt_k in dt_k}\n",
    "evaluations = parallel_execute2(\n",
    "    dt_gt_locations,\n",
    "    EvaluationResult.from_georeferenced_image_detections,\n",
    "    use_uncertainty_measure_as_confidence=True,\n",
    "    conf_threshold=0.001,\n",
    "    dist_threshold=0.35,\n",
    ")"
   ]
  },
  {
   "cell_type": "markdown",
   "metadata": {},
   "source": [
    "Sort the confidences in TPs and FPs:"
   ]
  },
  {
   "cell_type": "code",
   "execution_count": 29,
   "metadata": {},
   "outputs": [],
   "source": [
    "tp_confidences = defaultdict(list)\n",
    "fp_confidences = defaultdict(list)\n",
    "\n",
    "for method in methods:\n",
    "    for altitude in altitudes:\n",
    "        for dataset in datasets:\n",
    "            key = f\"{dataset}_{altitude}m_{method}\"\n",
    "\n",
    "            indices_per_class = evaluations[key].get_tp_fp_fn_indices()\n",
    "            for indices in indices_per_class.values():\n",
    "                tp_confidences[f\"{altitude}m_{method}\"].extend(evaluations[key].conf[idx] for idx in indices[0])\n",
    "                fp_confidences[f\"{altitude}m_{method}\"].extend(evaluations[key].conf[idx] for idx in indices[1])"
   ]
  },
  {
   "cell_type": "markdown",
   "metadata": {},
   "source": [
    "Show t-value with alternative hypothesis that TP is larger than FP:"
   ]
  },
  {
   "cell_type": "code",
   "execution_count": 30,
   "metadata": {},
   "outputs": [
    {
     "data": {
      "text/html": [
       "\n",
       "        <div style=\"max-height: 300px; overflow-y: auto; border: 1px solid #ccc;\">\n",
       "            <table>\n",
       "<thead>\n",
       "<tr><th>Uncertainty measure  </th><th>12m     </th><th>24m    </th><th>32m    </th></tr>\n",
       "</thead>\n",
       "<tbody>\n",
       "<tr><td>yolo                 </td><td>101.1***</td><td>48.3***</td><td>18.0***</td></tr>\n",
       "<tr><td>MCD yolo             </td><td>77.8*** </td><td>40.7***</td><td>15.6***</td></tr>\n",
       "<tr><td>MCD occurrence       </td><td>41.6*** </td><td>25.6***</td><td>11.1***</td></tr>\n",
       "<tr><td>MCD class            </td><td>78.7*** </td><td>42.5***</td><td>18.3***</td></tr>\n",
       "<tr><td>MCD localization     </td><td>3.4***  </td><td>-3.2   </td><td>-5.1   </td></tr>\n",
       "<tr><td>MCD combined         </td><td>61.4*** </td><td>23.1***</td><td>5.7*** </td></tr>\n",
       "</tbody>\n",
       "</table>\n",
       "        </div>\n",
       "        "
      ],
      "text/plain": [
       "<IPython.core.display.HTML object>"
      ]
     },
     "metadata": {},
     "output_type": "display_data"
    }
   ],
   "source": [
    "rows = []\n",
    "\n",
    "for method in methods:\n",
    "    row = [LABEL_MAP[method]]\n",
    "    for alt in altitudes:\n",
    "        t_value, p_value = ttest_ind(\n",
    "            tp_confidences[f\"{alt}m_{method}\"], fp_confidences[f\"{alt}m_{method}\"], alternative=\"greater\", equal_var=False\n",
    "        )\n",
    "        s_sign = \"***\" if p_value < 0.001 else (\"**\" if p_value < 0.01 else (\"*\" if p_value < 0.05 else \"\"))\n",
    "        row.append(f\"{t_value:.1f}{s_sign}\")\n",
    "    rows.append(row)\n",
    "\n",
    "_display_table(tabulate(rows, headers=[\"Uncertainty measure\"] + [f\"{alt}m\" for alt in altitudes], tablefmt=\"html\"))"
   ]
  },
  {
   "cell_type": "markdown",
   "metadata": {},
   "source": [
    "Create plot:"
   ]
  },
  {
   "cell_type": "code",
   "execution_count": 31,
   "metadata": {},
   "outputs": [
    {
     "data": {
      "image/png": "[encoded data removed]",
      "text/plain": [
       "<Figure size 800x320 with 1 Axes>"
      ]
     },
     "metadata": {},
     "output_type": "display_data"
    }
   ],
   "source": [
    "BAR_WIDTH = 0.4\n",
    "OFFSET_BETWEEN_METHODS = 0.5\n",
    "\n",
    "\n",
    "def gather_data(input_data: dict[str, list[float]]) -> list[list[float]]:\n",
    "    data = []\n",
    "    for method in methods:\n",
    "        for altitude in altitudes:\n",
    "            data.append(input_data[f\"{altitude}m_{method}\"])\n",
    "    return data\n",
    "\n",
    "\n",
    "tp_data = gather_data(tp_confidences)\n",
    "fp_data = gather_data(fp_confidences)\n",
    "\n",
    "positions = np.array([(i * (len(altitudes) + OFFSET_BETWEEN_METHODS)) + j for i in range(len(methods)) for j in range(len(altitudes))])\n",
    "\n",
    "fig, ax = plt.subplots(figsize=(8, 3.2))\n",
    "tp_boxes = ax.boxplot(tp_data, positions=positions - (BAR_WIDTH / 2), widths=BAR_WIDTH, showfliers=False, label=\"TP\", patch_artist=True)\n",
    "fp_boxes = ax.boxplot(fp_data, positions=positions + (BAR_WIDTH / 2), widths=BAR_WIDTH, showfliers=False, label=\"FP\", patch_artist=True)\n",
    "\n",
    "_set_boxplot_color(tp_boxes, \"#6699CC\")\n",
    "_set_boxplot_color(fp_boxes, \"#c8586c\")\n",
    "\n",
    "ax.set_ylabel(\"Certainty measure\")\n",
    "ax.set_xticks(positions, [f\"{alt}m\" for _ in methods for alt in altitudes])\n",
    "ax.set_ylim(0.0, 1.0)\n",
    "ax.grid(axis=\"y\")\n",
    "ax.set_axisbelow(True)\n",
    "ax.set_yticks(np.linspace(0.0, 1.0, 6))\n",
    "\n",
    "for i, method in enumerate(methods):\n",
    "    start_i = i * (len(positions) // len(methods))\n",
    "    end_i = (i + 1) * (len(positions) // len(methods)) - 1\n",
    "\n",
    "    ax.text((positions[end_i] + positions[start_i]) / 2, ax.get_ylim()[0] - 0.18, LABEL_MAP[method], ha=\"center\")\n",
    "    ax.plot([positions[start_i] - BAR_WIDTH, positions[end_i] + BAR_WIDTH], [-0.12, -0.12], color=\"black\", linewidth=1)[0].set_clip_on(\n",
    "        False\n",
    "    )\n",
    "\n",
    "ax.legend(loc=\"upper center\", bbox_to_anchor=(0.5, -0.20), fancybox=True, ncol=2)\n",
    "\n",
    "fig.tight_layout(rect=(0, -0.05, 1, 1.03))\n",
    "save_fig(\"figures/uncertainty_measure/uncertainty_measures_boxplot.pdf\", fig, format=\"pdf\", dpi=600)\n",
    "fig.show()"
   ]
  },
  {
   "cell_type": "markdown",
   "metadata": {},
   "source": [
    "Distance between TP and FP:"
   ]
  },
  {
   "cell_type": "code",
   "execution_count": 23,
   "metadata": {},
   "outputs": [
    {
     "data": {
      "image/png": "[encoded data removed]",
      "text/plain": [
       "<Figure size 600x300 with 1 Axes>"
      ]
     },
     "metadata": {},
     "output_type": "display_data"
    }
   ],
   "source": [
    "def bhattacharyya_distance(data1: list[float], data2: list[float]) -> float:\n",
    "    mean1, var1 = np.mean(data1), np.var(data1)\n",
    "    mean2, var2 = np.mean(data2), np.var(data2)\n",
    "\n",
    "    term1 = 0.25 * np.log(0.25 * ((var1 / var2) + (var2 / var1) + 2))\n",
    "    term2 = 0.25 * ((mean1 - mean2) ** 2) / (var1 + var2)\n",
    "\n",
    "    return term1 + term2\n",
    "\n",
    "\n",
    "colors = [\"#70284a\", \"#c8586c\", \"#f5ba98\"]\n",
    "\n",
    "fig, ax = plt.subplots(figsize=(6, 3))\n",
    "\n",
    "bar_width = 0.2\n",
    "for i, altitude in enumerate(altitudes):\n",
    "    method_data = []\n",
    "    for method in methods:\n",
    "        key = f\"{altitude}m_{method}\"\n",
    "        method_data.append(bhattacharyya_distance(tp_confidences[key], fp_confidences[key]))\n",
    "\n",
    "    ax.bar(np.arange(len(methods)) + i * bar_width, method_data, bar_width, label=f\"{altitude}m\", color=colors[i])\n",
    "\n",
    "ax.set_ylabel(\"Bhattacharyya distance\")\n",
    "ax.set_xticks(np.arange(len(methods)) + (len(altitudes) - 1) / 2 * bar_width, [LABEL_MAP[m].replace(\" \", \"\\n\") for m in methods])\n",
    "ax.grid(axis=\"y\")\n",
    "ax.set_ylim(0.0, 0.8)\n",
    "ax.set_axisbelow(True)\n",
    "ax.set_yticks(np.linspace(ax.get_ylim()[0], ax.get_ylim()[1], 5))\n",
    "\n",
    "ax.legend(loc=\"upper center\", bbox_to_anchor=(0.5, -0.15), fancybox=True, ncol=3)\n",
    "\n",
    "fig.tight_layout(rect=(0, -0.04, 1, 1.03))\n",
    "save_fig(\"figures/uncertainty_measure/uncertainty_measures_bhattacharyya_distance.pdf\", fig, format=\"pdf\", dpi=600)\n",
    "fig.show()"
   ]
  },
  {
   "cell_type": "code",
   "execution_count": null,
   "metadata": {},
   "outputs": [
    {
     "data": {
      "image/png": "[encoded data removed]",
      "text/plain": [
       "<Figure size 600x300 with 1 Axes>"
      ]
     },
     "metadata": {},
     "output_type": "display_data"
    }
   ],
   "source": [
    "colors = [\"#70284a\", \"#c8586c\", \"#f5ba98\"]\n",
    "\n",
    "fig, ax = plt.subplots(figsize=(6, 3))\n",
    "\n",
    "bar_width = 0.2\n",
    "for i, altitude in enumerate(altitudes):\n",
    "    method_data = []\n",
    "    for method in methods:\n",
    "        key = f\"{altitude}m_{method}\"\n",
    "        method_data.append(wasserstein_distance(tp_confidences[key], fp_confidences[key]))\n",
    "\n",
    "    ax.bar(np.arange(len(methods)) + i * bar_width, method_data, bar_width, label=f\"{altitude}m\", color=colors[i])\n",
    "\n",
    "ax.set_ylabel(\"Wasserstein distance\")\n",
    "ax.set_xticks(np.arange(len(methods)) + (len(altitudes) - 1) / 2 * bar_width, [LABEL_MAP[m].replace(\" \", \"\\n\") for m in methods])\n",
    "ax.grid(axis=\"y\")\n",
    "ax.set_ylim(0.0, 0.5)\n",
    "ax.set_axisbelow(True)\n",
    "ax.set_yticks(np.linspace(ax.get_ylim()[0], ax.get_ylim()[1], 6))\n",
    "\n",
    "ax.legend(loc=\"upper center\", bbox_to_anchor=(0.5, -0.15), fancybox=True, ncol=3)\n",
    "\n",
    "fig.tight_layout(rect=(0, -0.04, 1, 1.03))\n",
    "save_fig(\"figures/uncertainty_measure/uncertainty_measures_emd_distance.pdf\", fig, format=\"pdf\", dpi=600)\n",
    "fig.show()"
   ]
  },
  {
   "cell_type": "markdown",
   "metadata": {},
   "source": [
    "## Processing time\n",
    "\n",
    "Group the data:"
   ]
  },
  {
   "cell_type": "code",
   "execution_count": 25,
   "metadata": {},
   "outputs": [],
   "source": [
    "preprocess_times = defaultdict(list)\n",
    "inference_times = defaultdict(list)\n",
    "postprocess_times = defaultdict(list)\n",
    "total_times = defaultdict(list)\n",
    "\n",
    "for method in methods:\n",
    "    for k, v in processing_times.items():\n",
    "        if method in k:\n",
    "            preprocess_times[method].extend(v[\"preprocess\"])\n",
    "            inference_times[method].extend(v[\"inference\"])\n",
    "            postprocess_times[method].extend(v[\"postprocess\"])\n",
    "            total_times[method].extend(v[\"total\"])"
   ]
  },
  {
   "cell_type": "markdown",
   "metadata": {},
   "source": [
    "Create table:"
   ]
  },
  {
   "cell_type": "code",
   "execution_count": 26,
   "metadata": {},
   "outputs": [
    {
     "data": {
      "text/html": [
       "\n",
       "        <div style=\"max-height: 300px; overflow-y: auto; border: 1px solid #ccc;\">\n",
       "            <table>\n",
       "<thead>\n",
       "<tr><th>Uncertainty measure  </th><th>Preprocess time [ms]  </th><th>Inference time [ms]  </th><th>Postprocessing time [ms]  </th><th>Total time [ms]  </th></tr>\n",
       "</thead>\n",
       "<tbody>\n",
       "<tr><td>yolo                 </td><td>15.9±3.0              </td><td>5.7±0.5              </td><td>0.5±1.0                   </td><td>22.1±2.9         </td></tr>\n",
       "<tr><td>MCD yolo             </td><td>13.9±0.8              </td><td>36.3±0.4             </td><td>44.5±60.5                 </td><td>94.7±60.6        </td></tr>\n",
       "<tr><td>MCD occurrence       </td><td>13.7±0.8              </td><td>35.6±0.7             </td><td>82.5±139.1                </td><td>131.8±138.9      </td></tr>\n",
       "<tr><td>MCD class            </td><td>13.9±0.6              </td><td>35.0±0.4             </td><td>44.3±60.3                 </td><td>93.3±60.3        </td></tr>\n",
       "<tr><td>MCD localization     </td><td>13.7±0.6              </td><td>36.3±0.4             </td><td>44.0±59.7                 </td><td>94.0±59.7        </td></tr>\n",
       "<tr><td>MCD combined         </td><td>13.6±0.7              </td><td>35.0±0.4             </td><td>119.9±179.4               </td><td>168.5±179.4      </td></tr>\n",
       "<tr><td>MCD average          </td><td>14.0±1.5              </td><td>31.4±10.5            </td><td>59.7±113.8                </td><td>105.2±116.1      </td></tr>\n",
       "</tbody>\n",
       "</table>\n",
       "        </div>\n",
       "        "
      ],
      "text/plain": [
       "<IPython.core.display.HTML object>"
      ]
     },
     "metadata": {},
     "output_type": "display_data"
    }
   ],
   "source": [
    "header = [\"Uncertainty measure\", \"Preprocess time [ms]\", \"Inference time [ms]\", \"Postprocessing time [ms]\", \"Total time [ms]\"]\n",
    "rows = []\n",
    "\n",
    "\n",
    "def _plusminus_std(values: list[float]) -> str:\n",
    "    return f\"{np.mean(values):.1f}±{np.std(values):.1f}\"\n",
    "\n",
    "\n",
    "mcd_preprocess_values = []\n",
    "mcd_inference_values = []\n",
    "mcd_postprocess_values = []\n",
    "mcd_total_values = []\n",
    "for method in methods:\n",
    "    rows.append(\n",
    "        [\n",
    "            LABEL_MAP[method],\n",
    "            _plusminus_std(preprocess_times[method]),\n",
    "            _plusminus_std(inference_times[method]),\n",
    "            _plusminus_std(postprocess_times[method]),\n",
    "            _plusminus_std(total_times[method]),\n",
    "        ]\n",
    "    )\n",
    "\n",
    "    if method != \"yolo\":\n",
    "        mcd_preprocess_values.extend(preprocess_times[method])\n",
    "        mcd_inference_values.extend(inference_times[method])\n",
    "        mcd_postprocess_values.extend(postprocess_times[method])\n",
    "        mcd_total_values.extend(total_times[method])\n",
    "\n",
    "rows.append(\n",
    "    [\n",
    "        \"MCD average\",\n",
    "        _plusminus_std(mcd_preprocess_values),\n",
    "        _plusminus_std(mcd_inference_values),\n",
    "        _plusminus_std(mcd_postprocess_values),\n",
    "        _plusminus_std(mcd_total_values),\n",
    "    ]\n",
    ")\n",
    "\n",
    "_display_table(tabulate(rows, headers=header, tablefmt=\"html\"))"
   ]
  },
  {
   "cell_type": "markdown",
   "metadata": {},
   "source": [
    "Create plot:"
   ]
  },
  {
   "cell_type": "code",
   "execution_count": 28,
   "metadata": {},
   "outputs": [
    {
     "data": {
      "image/png": "[encoded data removed]",
      "text/plain": [
       "<Figure size 800x320 with 1 Axes>"
      ]
     },
     "metadata": {},
     "output_type": "display_data"
    }
   ],
   "source": [
    "BAR_WIDTH = 0.3\n",
    "OFFSET_BETWEEN_METHODS = 0.5\n",
    "\n",
    "\n",
    "def gather_data(input_data: dict[str, list[float]]) -> list[list[float]]:\n",
    "    return [input_data[method] for method in methods]\n",
    "\n",
    "\n",
    "preprocess_data = gather_data(preprocess_times)\n",
    "inference_data = gather_data(inference_times)\n",
    "postprocess_data = gather_data(postprocess_times)\n",
    "total_data = gather_data(total_times)\n",
    "\n",
    "positions = np.arange(len(methods)) * (1 + OFFSET_BETWEEN_METHODS)\n",
    "\n",
    "fig, ax = plt.subplots(figsize=(8, 3.2))\n",
    "preprocess_boxes = ax.boxplot(\n",
    "    preprocess_data, positions=positions - (BAR_WIDTH * 1.5), widths=BAR_WIDTH, showfliers=False, label=\"Preprocess\", patch_artist=True\n",
    ")\n",
    "inference_boxes = ax.boxplot(\n",
    "    inference_data, positions=positions - (BAR_WIDTH * 0.5), widths=BAR_WIDTH, showfliers=False, label=\"Inference\", patch_artist=True\n",
    ")\n",
    "postprocess_boxes = ax.boxplot(\n",
    "    postprocess_data, positions=positions + (BAR_WIDTH * 0.5), widths=BAR_WIDTH, showfliers=False, label=\"Postprocess\", patch_artist=True\n",
    ")\n",
    "total_boxes = ax.boxplot(\n",
    "    total_data, positions=positions + (BAR_WIDTH * 1.5), widths=BAR_WIDTH, showfliers=False, label=\"Total\", patch_artist=True\n",
    ")\n",
    "\n",
    "_set_boxplot_color(preprocess_boxes, \"#f5ba98\")\n",
    "_set_boxplot_color(inference_boxes, \"#ee8a82\")\n",
    "_set_boxplot_color(postprocess_boxes, \"#c8586c\")\n",
    "_set_boxplot_color(total_boxes, \"#9c3f5d\")\n",
    "\n",
    "ax.set_ylabel(\"Processing time [ms]\")\n",
    "ax.set_xticks(positions, [LABEL_MAP[method].replace(\" \", \"\\n\") for method in methods])\n",
    "ax.grid(axis=\"y\")\n",
    "ax.set_ylim(0.0, 360)\n",
    "ax.set_axisbelow(True)\n",
    "ax.set_yticks(np.linspace(ax.get_ylim()[0], ax.get_ylim()[1], 7))\n",
    "\n",
    "ax.legend(loc=\"upper center\", bbox_to_anchor=(0.5, -0.15), fancybox=True, ncol=4)\n",
    "\n",
    "fig.tight_layout(rect=(0, -0.04, 1, 1.03))\n",
    "save_fig(\"figures/uncertainty_measure/uncertainty_measures_processing_time_boxplot.pdf\", fig, format=\"pdf\", dpi=600)\n",
    "fig.show()"
   ]
  },
  {
   "cell_type": "code",
   "execution_count": null,
   "metadata": {},
   "outputs": [],
   "source": []
  }
 ],
 "metadata": {
  "kernelspec": {
   "display_name": "adaptive-planner",
   "language": "python",
   "name": "python3"
  },
  "language_info": {
   "codemirror_mode": {
    "name": "ipython",
    "version": 3
   },
   "file_extension": ".py",
   "mimetype": "text/x-python",
   "name": "python",
   "nbconvert_exporter": "python",
   "pygments_lexer": "ipython3",
   "version": "3.10.14"
  }
 },
 "nbformat": 4,
 "nbformat_minor": 2
}
